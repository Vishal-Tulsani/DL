{
 "cells": [
  {
   "cell_type": "code",
   "execution_count": 0,
   "metadata": {
    "colab": {},
    "colab_type": "code",
    "id": "OufScfWg4cl-"
   },
   "outputs": [],
   "source": [
    "import pandas as pd  # loading the csv file"
   ]
  },
  {
   "cell_type": "code",
   "execution_count": 0,
   "metadata": {
    "colab": {},
    "colab_type": "code",
    "id": "fUkmd1nH4mlp"
   },
   "outputs": [],
   "source": [
    "# now reading band data file\n",
    "df=pd.read_csv('bank.csv')"
   ]
  },
  {
   "cell_type": "code",
   "execution_count": 4,
   "metadata": {
    "colab": {
     "base_uri": "https://localhost:8080/",
     "height": 226
    },
    "colab_type": "code",
    "id": "jB4KrSTn4u80",
    "outputId": "8332fb12-adbb-4877-f9a2-5b000d36c5f6"
   },
   "outputs": [
    {
     "data": {
      "text/html": [
       "<div>\n",
       "<style scoped>\n",
       "    .dataframe tbody tr th:only-of-type {\n",
       "        vertical-align: middle;\n",
       "    }\n",
       "\n",
       "    .dataframe tbody tr th {\n",
       "        vertical-align: top;\n",
       "    }\n",
       "\n",
       "    .dataframe thead th {\n",
       "        text-align: right;\n",
       "    }\n",
       "</style>\n",
       "<table border=\"1\" class=\"dataframe\">\n",
       "  <thead>\n",
       "    <tr style=\"text-align: right;\">\n",
       "      <th></th>\n",
       "      <th>RowNumber</th>\n",
       "      <th>CustomerId</th>\n",
       "      <th>Surname</th>\n",
       "      <th>CreditScore</th>\n",
       "      <th>Geography</th>\n",
       "      <th>Gender</th>\n",
       "      <th>Age</th>\n",
       "      <th>Tenure</th>\n",
       "      <th>Balance</th>\n",
       "      <th>NumOfProducts</th>\n",
       "      <th>HasCrCard</th>\n",
       "      <th>IsActiveMember</th>\n",
       "      <th>EstimatedSalary</th>\n",
       "      <th>Exited</th>\n",
       "    </tr>\n",
       "  </thead>\n",
       "  <tbody>\n",
       "    <tr>\n",
       "      <th>0</th>\n",
       "      <td>1</td>\n",
       "      <td>15634602</td>\n",
       "      <td>Hargrave</td>\n",
       "      <td>619</td>\n",
       "      <td>France</td>\n",
       "      <td>Female</td>\n",
       "      <td>42</td>\n",
       "      <td>2</td>\n",
       "      <td>0.00</td>\n",
       "      <td>1</td>\n",
       "      <td>1</td>\n",
       "      <td>1</td>\n",
       "      <td>101348.88</td>\n",
       "      <td>1</td>\n",
       "    </tr>\n",
       "    <tr>\n",
       "      <th>1</th>\n",
       "      <td>2</td>\n",
       "      <td>15647311</td>\n",
       "      <td>Hill</td>\n",
       "      <td>608</td>\n",
       "      <td>Spain</td>\n",
       "      <td>Female</td>\n",
       "      <td>41</td>\n",
       "      <td>1</td>\n",
       "      <td>83807.86</td>\n",
       "      <td>1</td>\n",
       "      <td>0</td>\n",
       "      <td>1</td>\n",
       "      <td>112542.58</td>\n",
       "      <td>0</td>\n",
       "    </tr>\n",
       "    <tr>\n",
       "      <th>2</th>\n",
       "      <td>3</td>\n",
       "      <td>15619304</td>\n",
       "      <td>Onio</td>\n",
       "      <td>502</td>\n",
       "      <td>France</td>\n",
       "      <td>Female</td>\n",
       "      <td>42</td>\n",
       "      <td>8</td>\n",
       "      <td>159660.80</td>\n",
       "      <td>3</td>\n",
       "      <td>1</td>\n",
       "      <td>0</td>\n",
       "      <td>113931.57</td>\n",
       "      <td>1</td>\n",
       "    </tr>\n",
       "    <tr>\n",
       "      <th>3</th>\n",
       "      <td>4</td>\n",
       "      <td>15701354</td>\n",
       "      <td>Boni</td>\n",
       "      <td>699</td>\n",
       "      <td>France</td>\n",
       "      <td>Female</td>\n",
       "      <td>39</td>\n",
       "      <td>1</td>\n",
       "      <td>0.00</td>\n",
       "      <td>2</td>\n",
       "      <td>0</td>\n",
       "      <td>0</td>\n",
       "      <td>93826.63</td>\n",
       "      <td>0</td>\n",
       "    </tr>\n",
       "    <tr>\n",
       "      <th>4</th>\n",
       "      <td>5</td>\n",
       "      <td>15737888</td>\n",
       "      <td>Mitchell</td>\n",
       "      <td>850</td>\n",
       "      <td>Spain</td>\n",
       "      <td>Female</td>\n",
       "      <td>43</td>\n",
       "      <td>2</td>\n",
       "      <td>125510.82</td>\n",
       "      <td>1</td>\n",
       "      <td>1</td>\n",
       "      <td>1</td>\n",
       "      <td>79084.10</td>\n",
       "      <td>0</td>\n",
       "    </tr>\n",
       "  </tbody>\n",
       "</table>\n",
       "</div>"
      ],
      "text/plain": [
       "   RowNumber  CustomerId   Surname  ...  IsActiveMember EstimatedSalary Exited\n",
       "0          1    15634602  Hargrave  ...               1       101348.88      1\n",
       "1          2    15647311      Hill  ...               1       112542.58      0\n",
       "2          3    15619304      Onio  ...               0       113931.57      1\n",
       "3          4    15701354      Boni  ...               0        93826.63      0\n",
       "4          5    15737888  Mitchell  ...               1        79084.10      0\n",
       "\n",
       "[5 rows x 14 columns]"
      ]
     },
     "execution_count": 4,
     "metadata": {
      "tags": []
     },
     "output_type": "execute_result"
    }
   ],
   "source": [
    "# printing some top data\n",
    "df.head()"
   ]
  },
  {
   "cell_type": "code",
   "execution_count": 0,
   "metadata": {
    "colab": {},
    "colab_type": "code",
    "id": "9I740Oe84wZB"
   },
   "outputs": [],
   "source": [
    "# removing unwanted data or columns\n",
    "actual_data=df.iloc[:,3:]"
   ]
  },
  {
   "cell_type": "code",
   "execution_count": 0,
   "metadata": {
    "colab": {},
    "colab_type": "code",
    "id": "ZVtBa94R5GGy"
   },
   "outputs": [],
   "source": [
    "# features extract from all remaining dats\n",
    "features=actual_data.iloc[:,0:10].values"
   ]
  },
  {
   "cell_type": "code",
   "execution_count": 0,
   "metadata": {
    "colab": {},
    "colab_type": "code",
    "id": "OE3xPoEE5JVe"
   },
   "outputs": [],
   "source": [
    "# labels \n",
    "label=actual_data.iloc[:,10].values"
   ]
  },
  {
   "cell_type": "markdown",
   "metadata": {
    "colab_type": "text",
    "id": "9tcDyivr6efZ"
   },
   "source": [
    "# Categorical Data"
   ]
  },
  {
   "cell_type": "code",
   "execution_count": 0,
   "metadata": {
    "colab": {},
    "colab_type": "code",
    "id": "eH81cWHE5nn-"
   },
   "outputs": [],
   "source": [
    "# changing data from string to numeric\n",
    "from sklearn.preprocessing import LabelEncoder,OneHotEncoder"
   ]
  },
  {
   "cell_type": "code",
   "execution_count": 0,
   "metadata": {
    "colab": {},
    "colab_type": "code",
    "id": "q5BGOORG57wy"
   },
   "outputs": [],
   "source": [
    "# transforming particular column data (not numeric) into numeric one\n",
    "country=LabelEncoder()\n",
    "gender=LabelEncoder()"
   ]
  },
  {
   "cell_type": "code",
   "execution_count": 0,
   "metadata": {
    "colab": {},
    "colab_type": "code",
    "id": "NKagYkew7F0d"
   },
   "outputs": [],
   "source": [
    "# transforming country data\n",
    "features[:,1]=country.fit_transform(features[:,1])"
   ]
  },
  {
   "cell_type": "code",
   "execution_count": 11,
   "metadata": {
    "colab": {
     "base_uri": "https://localhost:8080/",
     "height": 146
    },
    "colab_type": "code",
    "id": "h1QiM5aU7yW-",
    "outputId": "d0d42e35-fddc-4f7e-e187-e421f32e187c"
   },
   "outputs": [
    {
     "data": {
      "text/plain": [
       "array([[619, 0, 'Female', ..., 1, 1, 101348.88],\n",
       "       [608, 2, 'Female', ..., 0, 1, 112542.58],\n",
       "       [502, 0, 'Female', ..., 1, 0, 113931.57],\n",
       "       ...,\n",
       "       [709, 0, 'Female', ..., 0, 1, 42085.58],\n",
       "       [772, 1, 'Male', ..., 1, 0, 92888.52],\n",
       "       [792, 0, 'Female', ..., 1, 0, 38190.78]], dtype=object)"
      ]
     },
     "execution_count": 11,
     "metadata": {
      "tags": []
     },
     "output_type": "execute_result"
    }
   ],
   "source": [
    "features"
   ]
  },
  {
   "cell_type": "code",
   "execution_count": 0,
   "metadata": {
    "colab": {},
    "colab_type": "code",
    "id": "wFVE0n299EBS"
   },
   "outputs": [],
   "source": [
    "features[:,2]=gender.fit_transform(features[:,2])"
   ]
  },
  {
   "cell_type": "code",
   "execution_count": 14,
   "metadata": {
    "colab": {
     "base_uri": "https://localhost:8080/",
     "height": 146
    },
    "colab_type": "code",
    "id": "4kgecAPXUG2V",
    "outputId": "c0e5700d-98a3-4f71-bfdd-2174f385a73c"
   },
   "outputs": [
    {
     "data": {
      "text/plain": [
       "array([[619, 0, 0, ..., 1, 1, 101348.88],\n",
       "       [608, 2, 0, ..., 0, 1, 112542.58],\n",
       "       [502, 0, 0, ..., 1, 0, 113931.57],\n",
       "       ...,\n",
       "       [709, 0, 0, ..., 0, 1, 42085.58],\n",
       "       [772, 1, 1, ..., 1, 0, 92888.52],\n",
       "       [792, 0, 0, ..., 1, 0, 38190.78]], dtype=object)"
      ]
     },
     "execution_count": 14,
     "metadata": {
      "tags": []
     },
     "output_type": "execute_result"
    }
   ],
   "source": [
    "features # here female is 0 and male is 1"
   ]
  },
  {
   "cell_type": "code",
   "execution_count": 0,
   "metadata": {
    "colab": {},
    "colab_type": "code",
    "id": "ujj3spLx9Lt4"
   },
   "outputs": [],
   "source": [
    "# now creating the dummy variables\n",
    "content=OneHotEncoder(categorical_features=[1])"
   ]
  },
  {
   "cell_type": "code",
   "execution_count": 16,
   "metadata": {
    "colab": {
     "base_uri": "https://localhost:8080/",
     "height": 147
    },
    "colab_type": "code",
    "id": "tEI_3sFi9ntl",
    "outputId": "afdda2a5-6997-46e5-9ab2-1e36e2f66d8b"
   },
   "outputs": [
    {
     "name": "stderr",
     "output_type": "stream",
     "text": [
      "/usr/local/lib/python3.6/dist-packages/sklearn/preprocessing/_encoders.py:415: FutureWarning: The handling of integer data will change in version 0.22. Currently, the categories are determined based on the range [0, max(values)], while in the future they will be determined based on the unique values.\n",
      "If you want the future behaviour and silence this warning, you can specify \"categories='auto'\".\n",
      "In case you used a LabelEncoder before this OneHotEncoder to convert the categories to integers, then you can now use the OneHotEncoder directly.\n",
      "  warnings.warn(msg, FutureWarning)\n",
      "/usr/local/lib/python3.6/dist-packages/sklearn/preprocessing/_encoders.py:451: DeprecationWarning: The 'categorical_features' keyword is deprecated in version 0.20 and will be removed in 0.22. You can use the ColumnTransformer instead.\n",
      "  \"use the ColumnTransformer instead.\", DeprecationWarning)\n"
     ]
    }
   ],
   "source": [
    "features=content.fit_transform(features).toarray()"
   ]
  },
  {
   "cell_type": "code",
   "execution_count": 0,
   "metadata": {
    "colab": {},
    "colab_type": "code",
    "id": "WjS7Fhz596-K"
   },
   "outputs": [],
   "source": [
    "#features.astype(int)"
   ]
  },
  {
   "cell_type": "code",
   "execution_count": 0,
   "metadata": {
    "colab": {},
    "colab_type": "code",
    "id": "D8Q2qpCV9_fy"
   },
   "outputs": [],
   "source": [
    "features=features[:,1:]"
   ]
  },
  {
   "cell_type": "code",
   "execution_count": 0,
   "metadata": {
    "colab": {},
    "colab_type": "code",
    "id": "BmjY8h4R-pc8"
   },
   "outputs": [],
   "source": [
    "# converting data into testing\n",
    "from sklearn.model_selection import train_test_split"
   ]
  },
  {
   "cell_type": "code",
   "execution_count": 0,
   "metadata": {
    "colab": {},
    "colab_type": "code",
    "id": "8ykV89ej-q0-"
   },
   "outputs": [],
   "source": [
    "X,x,Y,y=train_test_split(features,label,test_size=0.2)"
   ]
  },
  {
   "cell_type": "code",
   "execution_count": 0,
   "metadata": {
    "colab": {},
    "colab_type": "code",
    "id": "Go4qLJNf_8L3"
   },
   "outputs": [],
   "source": [
    "# applying feature scaling\n",
    "from sklearn.preprocessing import StandardScaler"
   ]
  },
  {
   "cell_type": "code",
   "execution_count": 0,
   "metadata": {
    "colab": {},
    "colab_type": "code",
    "id": "cJqyntLoAtVt"
   },
   "outputs": [],
   "source": [
    "sc=StandardScaler() # calling feature scaling "
   ]
  },
  {
   "cell_type": "code",
   "execution_count": 0,
   "metadata": {
    "colab": {},
    "colab_type": "code",
    "id": "3JwwIyL7A2aM"
   },
   "outputs": [],
   "source": [
    "# transforming training data only\n",
    "X=sc.fit_transform(X)"
   ]
  },
  {
   "cell_type": "code",
   "execution_count": 0,
   "metadata": {
    "colab": {},
    "colab_type": "code",
    "id": "pU3RIi35BCdT"
   },
   "outputs": [],
   "source": [
    "# testing only needs to be transfor but not fit\n",
    "x=sc.transform(x)"
   ]
  },
  {
   "cell_type": "markdown",
   "metadata": {
    "colab_type": "text",
    "id": "OEOFxbFDBorg"
   },
   "source": [
    "### till now we do the data processing"
   ]
  },
  {
   "cell_type": "markdown",
   "metadata": {
    "colab_type": "text",
    "id": "lwEONBA2B3pS"
   },
   "source": [
    "## Now we apply ANN"
   ]
  },
  {
   "cell_type": "code",
   "execution_count": 25,
   "metadata": {
    "colab": {
     "base_uri": "https://localhost:8080/",
     "height": 35
    },
    "colab_type": "code",
    "id": "6qQ7UP_JBux0",
    "outputId": "8ec2d3df-a822-420d-eeb5-effccebd6552"
   },
   "outputs": [
    {
     "name": "stderr",
     "output_type": "stream",
     "text": [
      "Using TensorFlow backend.\n"
     ]
    }
   ],
   "source": [
    "import keras"
   ]
  },
  {
   "cell_type": "code",
   "execution_count": 0,
   "metadata": {
    "colab": {},
    "colab_type": "code",
    "id": "_OCvF-ruCWCH"
   },
   "outputs": [],
   "source": [
    "# to create ANN model\n",
    "from keras.models import Sequential  # ANN initialize\n"
   ]
  },
  {
   "cell_type": "code",
   "execution_count": 0,
   "metadata": {
    "colab": {},
    "colab_type": "code",
    "id": "YCFiVL5RDx34"
   },
   "outputs": [],
   "source": [
    "# to fill data in each layer\n",
    "from keras.layers import Dense # clf fit "
   ]
  },
  {
   "cell_type": "code",
   "execution_count": 28,
   "metadata": {
    "colab": {
     "base_uri": "https://localhost:8080/",
     "height": 92
    },
    "colab_type": "code",
    "id": "wnDAccsWD7CB",
    "outputId": "726a6484-bd98-43b6-8069-03665f29a864"
   },
   "outputs": [
    {
     "name": "stderr",
     "output_type": "stream",
     "text": [
      "WARNING: Logging before flag parsing goes to stderr.\n",
      "W0623 12:32:54.128274 140699074926464 deprecation_wrapper.py:119] From /usr/local/lib/python3.6/dist-packages/keras/backend/tensorflow_backend.py:74: The name tf.get_default_graph is deprecated. Please use tf.compat.v1.get_default_graph instead.\n",
      "\n"
     ]
    }
   ],
   "source": [
    "# calling ANN model as classifier\n",
    "clf=Sequential()  # a frame for desiging ANN model"
   ]
  },
  {
   "cell_type": "code",
   "execution_count": 29,
   "metadata": {
    "colab": {
     "base_uri": "https://localhost:8080/",
     "height": 110
    },
    "colab_type": "code",
    "id": "PGT0jvEqFA9e",
    "outputId": "824dfe60-2308-478e-d5c1-050dc5da7a69"
   },
   "outputs": [
    {
     "name": "stderr",
     "output_type": "stream",
     "text": [
      "W0623 12:32:54.680364 140699074926464 deprecation_wrapper.py:119] From /usr/local/lib/python3.6/dist-packages/keras/backend/tensorflow_backend.py:517: The name tf.placeholder is deprecated. Please use tf.compat.v1.placeholder instead.\n",
      "\n",
      "W0623 12:32:54.694641 140699074926464 deprecation_wrapper.py:119] From /usr/local/lib/python3.6/dist-packages/keras/backend/tensorflow_backend.py:4138: The name tf.random_uniform is deprecated. Please use tf.random.uniform instead.\n",
      "\n"
     ]
    }
   ],
   "source": [
    "# now time for adding first hidden layers with input attribute / layer\n",
    "clf.add(Dense(units=6,activation='relu',kernel_initializer='glorot_uniform',input_shape=(11,)))"
   ]
  },
  {
   "cell_type": "code",
   "execution_count": 0,
   "metadata": {
    "colab": {},
    "colab_type": "code",
    "id": "0LBd1LR1HHyw"
   },
   "outputs": [],
   "source": [
    "# now adding second hidden layer\n",
    "clf.add(Dense(units=6,activation='relu',kernel_initializer='glorot_uniform'))"
   ]
  },
  {
   "cell_type": "code",
   "execution_count": 0,
   "metadata": {
    "colab": {},
    "colab_type": "code",
    "id": "rxvFiQsZIUOr"
   },
   "outputs": [],
   "source": [
    "# now finalizing output layer\n",
    "clf.add(Dense(units=1,activation='sigmoid'))"
   ]
  },
  {
   "cell_type": "code",
   "execution_count": 0,
   "metadata": {
    "colab": {},
    "colab_type": "code",
    "id": "XXgheFqSMzu8"
   },
   "outputs": [],
   "source": [
    "# compile the created model\n",
    "clf.compile(optimizer='adam',loss='binary_crossentropy',metrics=['accuracy'])\n",
    "# optimizer --stoachtis gradi , loss == multiple output compare , metrics = accuracy in \n",
    "# each step"
   ]
  },
  {
   "cell_type": "code",
   "execution_count": 35,
   "metadata": {
    "colab": {
     "base_uri": "https://localhost:8080/",
     "height": 3765
    },
    "colab_type": "code",
    "id": "PnBsA5JhRBsy",
    "outputId": "14dacbba-7e6b-4c63-9f8a-494e59b58b5a"
   },
   "outputs": [
    {
     "name": "stderr",
     "output_type": "stream",
     "text": [
      "W0623 12:34:44.505807 140699074926464 deprecation_wrapper.py:119] From /usr/local/lib/python3.6/dist-packages/keras/backend/tensorflow_backend.py:986: The name tf.assign_add is deprecated. Please use tf.compat.v1.assign_add instead.\n",
      "\n"
     ]
    },
    {
     "name": "stdout",
     "output_type": "stream",
     "text": [
      "Epoch 1/100\n",
      "8000/8000 [==============================] - 2s 225us/step - loss: 0.5098 - acc: 0.7914\n",
      "Epoch 2/100\n",
      "8000/8000 [==============================] - 1s 117us/step - loss: 0.4380 - acc: 0.7959\n",
      "Epoch 3/100\n",
      "8000/8000 [==============================] - 1s 113us/step - loss: 0.4125 - acc: 0.8076\n",
      "Epoch 4/100\n",
      "8000/8000 [==============================] - 1s 112us/step - loss: 0.3875 - acc: 0.8152\n",
      "Epoch 5/100\n",
      "8000/8000 [==============================] - 1s 111us/step - loss: 0.3730 - acc: 0.8179\n",
      "Epoch 6/100\n",
      "8000/8000 [==============================] - 1s 112us/step - loss: 0.3621 - acc: 0.8404\n",
      "Epoch 7/100\n",
      "8000/8000 [==============================] - 1s 111us/step - loss: 0.3540 - acc: 0.8551\n",
      "Epoch 8/100\n",
      "8000/8000 [==============================] - 1s 111us/step - loss: 0.3494 - acc: 0.8581\n",
      "Epoch 9/100\n",
      "8000/8000 [==============================] - 1s 111us/step - loss: 0.3458 - acc: 0.8570\n",
      "Epoch 10/100\n",
      "8000/8000 [==============================] - 1s 110us/step - loss: 0.3433 - acc: 0.8599\n",
      "Epoch 11/100\n",
      "8000/8000 [==============================] - 1s 111us/step - loss: 0.3412 - acc: 0.8591\n",
      "Epoch 12/100\n",
      "8000/8000 [==============================] - 1s 116us/step - loss: 0.3396 - acc: 0.8585\n",
      "Epoch 13/100\n",
      "8000/8000 [==============================] - 1s 125us/step - loss: 0.3382 - acc: 0.8592\n",
      "Epoch 14/100\n",
      "8000/8000 [==============================] - 1s 126us/step - loss: 0.3371 - acc: 0.8604\n",
      "Epoch 15/100\n",
      "8000/8000 [==============================] - 1s 129us/step - loss: 0.3362 - acc: 0.8606\n",
      "Epoch 16/100\n",
      "8000/8000 [==============================] - 1s 125us/step - loss: 0.3358 - acc: 0.8615\n",
      "Epoch 17/100\n",
      "8000/8000 [==============================] - 1s 126us/step - loss: 0.3352 - acc: 0.8609\n",
      "Epoch 18/100\n",
      "8000/8000 [==============================] - 1s 124us/step - loss: 0.3349 - acc: 0.8600\n",
      "Epoch 19/100\n",
      "8000/8000 [==============================] - 1s 113us/step - loss: 0.3344 - acc: 0.8606\n",
      "Epoch 20/100\n",
      "8000/8000 [==============================] - 1s 111us/step - loss: 0.3337 - acc: 0.8611\n",
      "Epoch 21/100\n",
      "8000/8000 [==============================] - 1s 112us/step - loss: 0.3335 - acc: 0.8616\n",
      "Epoch 22/100\n",
      "8000/8000 [==============================] - 1s 112us/step - loss: 0.3330 - acc: 0.8624\n",
      "Epoch 23/100\n",
      "8000/8000 [==============================] - 1s 116us/step - loss: 0.3323 - acc: 0.8634\n",
      "Epoch 24/100\n",
      "8000/8000 [==============================] - 1s 112us/step - loss: 0.3326 - acc: 0.8610\n",
      "Epoch 25/100\n",
      "8000/8000 [==============================] - 1s 112us/step - loss: 0.3320 - acc: 0.8625\n",
      "Epoch 26/100\n",
      "8000/8000 [==============================] - 1s 114us/step - loss: 0.3316 - acc: 0.8624\n",
      "Epoch 27/100\n",
      "8000/8000 [==============================] - 1s 112us/step - loss: 0.3312 - acc: 0.8651\n",
      "Epoch 28/100\n",
      "8000/8000 [==============================] - 1s 111us/step - loss: 0.3313 - acc: 0.8617\n",
      "Epoch 29/100\n",
      "8000/8000 [==============================] - 1s 112us/step - loss: 0.3307 - acc: 0.8632\n",
      "Epoch 30/100\n",
      "8000/8000 [==============================] - 1s 112us/step - loss: 0.3307 - acc: 0.8639\n",
      "Epoch 31/100\n",
      "8000/8000 [==============================] - 1s 111us/step - loss: 0.3305 - acc: 0.8634\n",
      "Epoch 32/100\n",
      "8000/8000 [==============================] - 1s 111us/step - loss: 0.3301 - acc: 0.8646\n",
      "Epoch 33/100\n",
      "8000/8000 [==============================] - 1s 111us/step - loss: 0.3301 - acc: 0.8646\n",
      "Epoch 34/100\n",
      "8000/8000 [==============================] - 1s 112us/step - loss: 0.3302 - acc: 0.8645\n",
      "Epoch 35/100\n",
      "8000/8000 [==============================] - 1s 116us/step - loss: 0.3297 - acc: 0.8635\n",
      "Epoch 36/100\n",
      "8000/8000 [==============================] - 1s 112us/step - loss: 0.3296 - acc: 0.8631\n",
      "Epoch 37/100\n",
      "8000/8000 [==============================] - 1s 111us/step - loss: 0.3298 - acc: 0.8645\n",
      "Epoch 38/100\n",
      "8000/8000 [==============================] - 1s 112us/step - loss: 0.3291 - acc: 0.8641\n",
      "Epoch 39/100\n",
      "8000/8000 [==============================] - 1s 111us/step - loss: 0.3293 - acc: 0.8640\n",
      "Epoch 40/100\n",
      "8000/8000 [==============================] - 1s 111us/step - loss: 0.3292 - acc: 0.8641\n",
      "Epoch 41/100\n",
      "8000/8000 [==============================] - 1s 111us/step - loss: 0.3292 - acc: 0.8661\n",
      "Epoch 42/100\n",
      "8000/8000 [==============================] - 1s 111us/step - loss: 0.3294 - acc: 0.8637\n",
      "Epoch 43/100\n",
      "8000/8000 [==============================] - 1s 110us/step - loss: 0.3291 - acc: 0.8656\n",
      "Epoch 44/100\n",
      "8000/8000 [==============================] - 1s 115us/step - loss: 0.3289 - acc: 0.8665\n",
      "Epoch 45/100\n",
      "8000/8000 [==============================] - 1s 119us/step - loss: 0.3290 - acc: 0.8649\n",
      "Epoch 46/100\n",
      "8000/8000 [==============================] - 1s 124us/step - loss: 0.3283 - acc: 0.8637\n",
      "Epoch 47/100\n",
      "8000/8000 [==============================] - 1s 123us/step - loss: 0.3285 - acc: 0.8654\n",
      "Epoch 48/100\n",
      "8000/8000 [==============================] - 1s 120us/step - loss: 0.3288 - acc: 0.8657\n",
      "Epoch 49/100\n",
      "8000/8000 [==============================] - 1s 119us/step - loss: 0.3288 - acc: 0.8647\n",
      "Epoch 50/100\n",
      "8000/8000 [==============================] - 1s 118us/step - loss: 0.3284 - acc: 0.8669\n",
      "Epoch 51/100\n",
      "8000/8000 [==============================] - 1s 120us/step - loss: 0.3288 - acc: 0.8655\n",
      "Epoch 52/100\n",
      "8000/8000 [==============================] - 1s 121us/step - loss: 0.3284 - acc: 0.8659\n",
      "Epoch 53/100\n",
      "8000/8000 [==============================] - 1s 123us/step - loss: 0.3288 - acc: 0.8636\n",
      "Epoch 54/100\n",
      "8000/8000 [==============================] - 1s 121us/step - loss: 0.3286 - acc: 0.8640\n",
      "Epoch 55/100\n",
      "8000/8000 [==============================] - 1s 118us/step - loss: 0.3283 - acc: 0.8655\n",
      "Epoch 56/100\n",
      "8000/8000 [==============================] - 1s 113us/step - loss: 0.3285 - acc: 0.8647\n",
      "Epoch 57/100\n",
      "8000/8000 [==============================] - 1s 113us/step - loss: 0.3286 - acc: 0.8641\n",
      "Epoch 58/100\n",
      "8000/8000 [==============================] - 1s 113us/step - loss: 0.3283 - acc: 0.8651\n",
      "Epoch 59/100\n",
      "8000/8000 [==============================] - 1s 112us/step - loss: 0.3281 - acc: 0.8650\n",
      "Epoch 60/100\n",
      "8000/8000 [==============================] - 1s 111us/step - loss: 0.3278 - acc: 0.8644\n",
      "Epoch 61/100\n",
      "8000/8000 [==============================] - 1s 110us/step - loss: 0.3284 - acc: 0.8656\n",
      "Epoch 62/100\n",
      "8000/8000 [==============================] - 1s 112us/step - loss: 0.3282 - acc: 0.8650\n",
      "Epoch 63/100\n",
      "8000/8000 [==============================] - 1s 111us/step - loss: 0.3279 - acc: 0.8662\n",
      "Epoch 64/100\n",
      "8000/8000 [==============================] - 1s 112us/step - loss: 0.3283 - acc: 0.8641\n",
      "Epoch 65/100\n",
      "8000/8000 [==============================] - 1s 111us/step - loss: 0.3278 - acc: 0.8650\n",
      "Epoch 66/100\n",
      "8000/8000 [==============================] - 1s 111us/step - loss: 0.3279 - acc: 0.8644\n",
      "Epoch 67/100\n",
      "8000/8000 [==============================] - 1s 111us/step - loss: 0.3277 - acc: 0.8642\n",
      "Epoch 68/100\n",
      "8000/8000 [==============================] - 1s 113us/step - loss: 0.3277 - acc: 0.8660\n",
      "Epoch 69/100\n",
      "8000/8000 [==============================] - 1s 111us/step - loss: 0.3282 - acc: 0.8650\n",
      "Epoch 70/100\n",
      "8000/8000 [==============================] - 1s 112us/step - loss: 0.3279 - acc: 0.8659\n",
      "Epoch 71/100\n",
      "8000/8000 [==============================] - 1s 111us/step - loss: 0.3282 - acc: 0.8650\n",
      "Epoch 72/100\n",
      "8000/8000 [==============================] - 1s 111us/step - loss: 0.3276 - acc: 0.8649\n",
      "Epoch 73/100\n",
      "8000/8000 [==============================] - 1s 111us/step - loss: 0.3274 - acc: 0.8661\n",
      "Epoch 74/100\n",
      "8000/8000 [==============================] - 1s 113us/step - loss: 0.3279 - acc: 0.8641\n",
      "Epoch 75/100\n",
      "8000/8000 [==============================] - 1s 112us/step - loss: 0.3278 - acc: 0.8660\n",
      "Epoch 76/100\n",
      "8000/8000 [==============================] - 1s 111us/step - loss: 0.3275 - acc: 0.8632\n",
      "Epoch 77/100\n",
      "8000/8000 [==============================] - 1s 112us/step - loss: 0.3277 - acc: 0.8626\n",
      "Epoch 78/100\n",
      "8000/8000 [==============================] - 1s 112us/step - loss: 0.3277 - acc: 0.8654\n",
      "Epoch 79/100\n",
      "8000/8000 [==============================] - 1s 111us/step - loss: 0.3277 - acc: 0.8649\n",
      "Epoch 80/100\n",
      "8000/8000 [==============================] - 1s 111us/step - loss: 0.3274 - acc: 0.8660\n",
      "Epoch 81/100\n",
      "8000/8000 [==============================] - 1s 114us/step - loss: 0.3273 - acc: 0.8664\n",
      "Epoch 82/100\n",
      "8000/8000 [==============================] - 1s 111us/step - loss: 0.3276 - acc: 0.8644\n",
      "Epoch 83/100\n",
      "8000/8000 [==============================] - 1s 112us/step - loss: 0.3274 - acc: 0.8637\n",
      "Epoch 84/100\n",
      "8000/8000 [==============================] - 1s 111us/step - loss: 0.3276 - acc: 0.8656\n",
      "Epoch 85/100\n",
      "8000/8000 [==============================] - 1s 111us/step - loss: 0.3275 - acc: 0.8647\n",
      "Epoch 86/100\n",
      "8000/8000 [==============================] - 1s 112us/step - loss: 0.3269 - acc: 0.8671\n",
      "Epoch 87/100\n",
      "8000/8000 [==============================] - 1s 111us/step - loss: 0.3274 - acc: 0.8655\n",
      "Epoch 88/100\n",
      "8000/8000 [==============================] - 1s 114us/step - loss: 0.3274 - acc: 0.8650\n",
      "Epoch 89/100\n",
      "8000/8000 [==============================] - 1s 114us/step - loss: 0.3275 - acc: 0.8659\n",
      "Epoch 90/100\n",
      "8000/8000 [==============================] - 1s 112us/step - loss: 0.3274 - acc: 0.8650\n",
      "Epoch 91/100\n",
      "8000/8000 [==============================] - 1s 113us/step - loss: 0.3272 - acc: 0.8659\n",
      "Epoch 92/100\n",
      "8000/8000 [==============================] - 1s 113us/step - loss: 0.3273 - acc: 0.8655\n",
      "Epoch 93/100\n",
      "8000/8000 [==============================] - 1s 117us/step - loss: 0.3270 - acc: 0.8639\n",
      "Epoch 94/100\n",
      "8000/8000 [==============================] - 1s 111us/step - loss: 0.3272 - acc: 0.8644\n",
      "Epoch 95/100\n",
      "8000/8000 [==============================] - 1s 112us/step - loss: 0.3271 - acc: 0.8664\n",
      "Epoch 96/100\n",
      "8000/8000 [==============================] - 1s 111us/step - loss: 0.3273 - acc: 0.8652\n",
      "Epoch 97/100\n",
      "8000/8000 [==============================] - 1s 111us/step - loss: 0.3269 - acc: 0.8650\n",
      "Epoch 98/100\n",
      "8000/8000 [==============================] - 1s 112us/step - loss: 0.3273 - acc: 0.8660\n",
      "Epoch 99/100\n",
      "8000/8000 [==============================] - 1s 111us/step - loss: 0.3267 - acc: 0.8662\n",
      "Epoch 100/100\n",
      "8000/8000 [==============================] - 1s 113us/step - loss: 0.3268 - acc: 0.8646\n"
     ]
    },
    {
     "data": {
      "text/plain": [
       "<keras.callbacks.History at 0x7ff6e1b4de10>"
      ]
     },
     "execution_count": 35,
     "metadata": {
      "tags": []
     },
     "output_type": "execute_result"
    }
   ],
   "source": [
    "# fitting features and label data\n",
    "clf.fit(X,Y,batch_size=10,epochs=100)"
   ]
  },
  {
   "cell_type": "code",
   "execution_count": 0,
   "metadata": {
    "colab": {},
    "colab_type": "code",
    "id": "2VQiFbApS3n6"
   },
   "outputs": [],
   "source": [
    "# now time for prediction\n",
    "y_predict=clf.predict(x)\n",
    "for i in range(len(y_predict)):\n",
    "  if y_predict[i] > 0.5:\n",
    "    y_predict[i] = 1\n",
    "  else:\n",
    "    y_predict[i] = 0\n",
    "y_predict=y_predict.astype(int)    "
   ]
  },
  {
   "cell_type": "code",
   "execution_count": 81,
   "metadata": {
    "colab": {
     "base_uri": "https://localhost:8080/",
     "height": 146
    },
    "colab_type": "code",
    "id": "x74V1Bz0WuD_",
    "outputId": "614a6a17-be6e-4cbb-b132-ca84f9669272"
   },
   "outputs": [
    {
     "data": {
      "text/plain": [
       "array([[0],\n",
       "       [0],\n",
       "       [1],\n",
       "       ...,\n",
       "       [0],\n",
       "       [0],\n",
       "       [1]])"
      ]
     },
     "execution_count": 81,
     "metadata": {
      "tags": []
     },
     "output_type": "execute_result"
    }
   ],
   "source": [
    "y_predict"
   ]
  },
  {
   "cell_type": "code",
   "execution_count": 82,
   "metadata": {
    "colab": {
     "base_uri": "https://localhost:8080/",
     "height": 35
    },
    "colab_type": "code",
    "id": "iGpeylAEZWno",
    "outputId": "c107def4-e7a6-428e-8e2f-03684eca0bcf"
   },
   "outputs": [
    {
     "data": {
      "text/plain": [
       "array([0, 0, 1, ..., 0, 0, 0])"
      ]
     },
     "execution_count": 82,
     "metadata": {
      "tags": []
     },
     "output_type": "execute_result"
    }
   ],
   "source": [
    "y"
   ]
  },
  {
   "cell_type": "code",
   "execution_count": 0,
   "metadata": {
    "colab": {},
    "colab_type": "code",
    "id": "H9SnyKQ6cOJO"
   },
   "outputs": [],
   "source": [
    "from sklearn.metrics import accuracy_score  # importing sklearn.metrics for calculating accuracy score\n",
    "score=accuracy_score(y,y_predict)"
   ]
  },
  {
   "cell_type": "code",
   "execution_count": 86,
   "metadata": {
    "colab": {
     "base_uri": "https://localhost:8080/",
     "height": 35
    },
    "colab_type": "code",
    "id": "0iA9B2U6eSj0",
    "outputId": "9cda64c9-c462-4c33-90bd-20a26493327d"
   },
   "outputs": [
    {
     "data": {
      "text/plain": [
       "0.857"
      ]
     },
     "execution_count": 86,
     "metadata": {
      "tags": []
     },
     "output_type": "execute_result"
    }
   ],
   "source": [
    "score  # percentage of score"
   ]
  },
  {
   "cell_type": "code",
   "execution_count": 0,
   "metadata": {
    "colab": {},
    "colab_type": "code",
    "id": "pndw9dkheVHO"
   },
   "outputs": [],
   "source": []
  }
 ],
 "metadata": {
  "colab": {
   "name": "newANN.ipynb",
   "provenance": [],
   "version": "0.3.2"
  },
  "kernelspec": {
   "display_name": "Python 3",
   "language": "python",
   "name": "python3"
  },
  "language_info": {
   "codemirror_mode": {
    "name": "ipython",
    "version": 3
   },
   "file_extension": ".py",
   "mimetype": "text/x-python",
   "name": "python",
   "nbconvert_exporter": "python",
   "pygments_lexer": "ipython3",
   "version": "3.7.0"
  }
 },
 "nbformat": 4,
 "nbformat_minor": 1
}
